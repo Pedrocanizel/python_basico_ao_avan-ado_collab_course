{
  "nbformat": 4,
  "nbformat_minor": 0,
  "metadata": {
    "colab": {
      "provenance": [],
      "authorship_tag": "ABX9TyNogZ1MmR3YT73s0tYUUpB6",
      "include_colab_link": true
    },
    "kernelspec": {
      "name": "python3",
      "display_name": "Python 3"
    },
    "language_info": {
      "name": "python"
    }
  },
  "cells": [
    {
      "cell_type": "markdown",
      "metadata": {
        "id": "view-in-github",
        "colab_type": "text"
      },
      "source": [
        "<a href=\"https://colab.research.google.com/github/Pedrocanizel/python_basico_ao_avan-ado_collab_course/blob/main/declaracao_de_vari%C3%A1veis.ipynb\" target=\"_parent\"><img src=\"https://colab.research.google.com/assets/colab-badge.svg\" alt=\"Open In Colab\"/></a>"
      ]
    },
    {
      "cell_type": "markdown",
      "source": [
        "### Responsáveis técnicos (Aqui coloquei o meu como exemplo mas todos que estiverem fazendo seu módulo adicionem os seus): [Linkedin de Pedro Canizela](https://www.linkedin.com/in/pedrocanizela/)\n",
        "\n",
        "### Se tiver qualquer dúvida durante a realização do módulo, mande um mensagem pelo Linkedin no direct do Pedro Canizela com seu número de WhatsApp para ser adicionado em um grupo de suporte Neste segundo por gentileza deixem meu linkedin e se quiserem adicionar o de vocês tbm para as pessoas entrarem em contato fica a vontade : [Linkedin de Pedro Canizela](https://www.linkedin.com/in/pedrocanizela/)"
      ],
      "metadata": {
        "id": "VcRSiMorUV7-"
      }
    },
    {
      "cell_type": "markdown",
      "source": [
        "# Esse módulo tem como objetivo apresentar tudo que você precisa saber sobre declaração de variáveis em Python."
      ],
      "metadata": {
        "id": "ukbNE9dETL3G"
      }
    },
    {
      "cell_type": "markdown",
      "source": [
        "## Em programação, variáveis são espaços de armazenamento que têm um nome simbólico um identificador e que contêm dados ou valores. Esses dados podem ser modificados durante a execução de um programa. As variáveis são fundamentais para manipular informações e realizar cálculos em um programa de computador, por exemplo.\n",
        "\n",
        "## As variáveis têm tipos que definem que tipo de dados elas podem armazenar, como inteiros, números de ponto flutuante, caracteres, booleanos, entre outros. Além disso, as variáveis têm escopo, que determina em qual parte do programa elas podem ser acessadas, e duram durante um determinado período de tempo, dependendo de onde são declaradas.\n",
        "\n",
        "## Faça esse módulo até o final para entender melhor tudo que foi citado acima."
      ],
      "metadata": {
        "id": "NjkiIcX0Tvpz"
      }
    },
    {
      "cell_type": "code",
      "source": [
        "# Neste exemplo, idade é uma variável que armazena um número inteiro,\n",
        "# e nome é uma variável que armazena uma string (sequência de caracteres).\n",
        "idade = 25\n",
        "nome = \"João\""
      ],
      "metadata": {
        "id": "iSmgm0XXUs36"
      },
      "execution_count": null,
      "outputs": []
    },
    {
      "cell_type": "markdown",
      "source": [
        "# Abaixo diferentes formas de declaração de variável em Python"
      ],
      "metadata": {
        "id": "bGTYdRT_VgSY"
      }
    },
    {
      "cell_type": "markdown",
      "source": [
        "## Uma atribuição simples em programação refere-se à operação de associar um valor a uma variável. Isso é feito usando o operador de atribuição, que geralmente é representado pelo sinal de igual (=) em muitas linguagens de programação. A atribuição simples é usada para dar um valor específico a uma variável. A variável é o nome que você está dando ao espaço de armazenamento, e o valor é o dado que está sendo armazenado nesse espaço. Mais tarde, você pode acessar ou modificar esse valor através do nome da variável durante a execução do programa.\n",
        "\n",
        "## É importante notar que a atribuição simples não apenas dá um valor à variável, mas também cria a variável se ela ainda não existir no escopo em que está sendo usada."
      ],
      "metadata": {
        "id": "8Js4dlKSWVAG"
      }
    },
    {
      "cell_type": "code",
      "source": [
        "# Atribuição Simples:\n",
        "idade = 25\n",
        "nome = \"João\"\n",
        "altura = 1.75"
      ],
      "metadata": {
        "id": "_hu90mK-VmZy"
      },
      "execution_count": null,
      "outputs": []
    },
    {
      "cell_type": "markdown",
      "source": [
        "## A atribuição múltipla é uma característica em muitas linguagens de programação que permite atribuir valores a várias variáveis em uma única instrução. Em vez de ter uma linha separada para cada atribuição, você pode realizar várias atribuições em uma única linha. Isso pode tornar o código mais conciso e legível."
      ],
      "metadata": {
        "id": "0A1rAh8CWegg"
      }
    },
    {
      "cell_type": "code",
      "source": [
        "# Atribuição Múltipla simples:\n",
        "a, b, c = 10, 20, 30\n",
        "\n",
        "# Atribuição Múltipla com Strings\n",
        "# Aqui, os valores \"Maria\" e \"Silva\" são atribuídos às variáveis nome e sobrenome\n",
        "nome, sobrenome = \"Maria\", \"Silva\"\n",
        "\n",
        "# Atribuição Múltipla com Listas\n",
        "# Neste caso, os valores da lista são atribuídos a variáveis individuais\n",
        "# x recebe 1, y recebe 2, z recebe 3\n",
        "lista = [1, 2, 3]\n",
        "x, y, z = lista\n",
        "\n",
        "# Troca de Valores entre Variáveis:\n",
        "# Isso é uma forma comum de trocar os valores de duas variáveis sem a necessidade de uma variável temporária\n",
        "a, b = b, a"
      ],
      "metadata": {
        "id": "OTXcNivHVmCo"
      },
      "execution_count": 2,
      "outputs": []
    },
    {
      "cell_type": "markdown",
      "source": [
        "## Uma atribuição de valor nulo refere-se à prática de atribuir um valor especial chamado \"nulo\" a uma variável. O valor nulo indica que a variável não possui um valor válido ou não contém dados. Em muitas linguagens de programação, esse valor nulo é frequentemente representado por uma constante específica, como None em Python, null em JavaScript, ou null em algumas linguagens baseadas em Java, como Java e Kotlin.\n",
        "## Aqui, a variável está sendo atribuída com o valor especial None, indicando que inicialmente não contém nenhum valor específico. O uso de um valor nulo pode ser útil em situações em que você deseja inicializar uma variável sem associar a ela um valor válido.\n",
        "\n",
        "## É importante mencionar que o valor nulo pode ser tratado de maneiras diferentes em diferentes linguagens de programação. Em algumas linguagens, tentar acessar ou operar com uma variável nula pode resultar em erros, enquanto em outras linguagens, o código pode continuar a ser executado sem problemas. A manipulação de valores nulos é uma consideração importante para lidar com casos em que os dados podem estar ausentes ou indefinidos."
      ],
      "metadata": {
        "id": "xAqYenhwXz5n"
      }
    },
    {
      "cell_type": "code",
      "source": [
        "# Atribuição com Valor Nulo (None):\n",
        "valor = None\n"
      ],
      "metadata": {
        "id": "qg9Ov4k6VuHt"
      },
      "execution_count": null,
      "outputs": []
    },
    {
      "cell_type": "markdown",
      "source": [
        "## Variáveis booleanas são um tipo de variável em programação que pode armazenar um dos dois valores: verdadeiro (True) ou falso (False). Essas variáveis são frequentemente utilizadas em lógica booleana, onde as condições são avaliadas como verdadeiras ou falsas.\n",
        "\n",
        "## Em muitas linguagens de programação, incluindo Python, as variáveis booleanas são fundamentais para controle de fluxo, tomada de decisões e expressões condicionais."
      ],
      "metadata": {
        "id": "r_g6wRfMX9iX"
      }
    },
    {
      "cell_type": "code",
      "source": [
        "# Variáveis Booleanas:\n",
        "ativo = True\n",
        "logado = False"
      ],
      "metadata": {
        "id": "B-15o-XHVuFF"
      },
      "execution_count": null,
      "outputs": []
    },
    {
      "cell_type": "markdown",
      "source": [
        "## A atribuição dinâmica de tipo, também conhecida como tipagem dinâmica, refere-se à capacidade de uma linguagem de programação em permitir que o tipo de uma variável seja determinado em tempo de execução. Em linguagens com atribuição dinâmica de tipo, você não precisa declarar explicitamente o tipo de uma variável ao criá-la; em vez disso, o tipo é inferido com base no valor atribuído a ela durante a execução do programa.\n",
        "\n",
        "## Neste exemplo, a variável chamada variavel é inicialmente do tipo inteiro, mas pode ser atribuída com sucesso a valores de outros tipos, como string e ponto flutuante. A linguagem Python ajusta dinamicamente o tipo da variável conforme necessário.\n",
        "\n",
        "## Isso oferece flexibilidade aos desenvolvedores, mas também requer atenção ao desenvolver código para garantir que as operações realizadas em variáveis sejam apropriadas para seus tipos atuais. Em linguagens com tipagem dinâmica, é possível que ocorram erros em tempo de execução se operações inválidas são realizadas em variáveis com tipos incompatíveis."
      ],
      "metadata": {
        "id": "YexkzFyaYVv9"
      }
    },
    {
      "cell_type": "code",
      "source": [
        "# Atribuição Dinâmica de Tipo:\n",
        "variavel = 42      # Inteiro\n",
        "variavel = \"Texto\" # String\n",
        "variavel = 3.14    # Ponto flutuante\n"
      ],
      "metadata": {
        "id": "lO6ghLCRVuCv"
      },
      "execution_count": null,
      "outputs": []
    },
    {
      "cell_type": "markdown",
      "source": [
        "## Em muitas linguagens de programação, o conceito de constantes refere-se a valores que não podem ser alterados durante a execução do programa. Uma constante é uma variável cujo valor é fixo e não pode ser modificado após a sua atribuição inicial. Essas constantes são úteis para representar valores que não devem ser alterados ao longo do programa, como valores matemáticos fixos, configurações importantes ou identificadores específicos.\n",
        "\n",
        "## A convenção de utilizar letras maiúsculas para constantes é uma prática comum em muitas linguagens, incluindo Python. É uma forma de indicar visualmente que uma variável deve ser tratada como uma constante e que seu valor não deve ser modificado. Isso ajuda a tornar o código mais legível e a facilitar a identificação de constantes no meio do código.\n",
        "\n",
        "## Nesses exemplos, PI, TAXA_DE_JUROS são consideradas constantes, e seus valores devem permanecer inalterados ao longo do programa.\n",
        "\n",
        "## É importante observar que, na prática, em Python e algumas outras linguagens, as constantes podem ser reatribuídas se o programador assim desejar. No entanto, a convenção de utilizar letras maiúsculas ajuda a sinalizar a intenção de que essas variáveis devem ser tratadas como constantes e não devem ser alteradas."
      ],
      "metadata": {
        "id": "DqqNXQ7iYgOe"
      }
    },
    {
      "cell_type": "code",
      "source": [
        "# Constantes (por convenção, utilizando letras maiúsculas):\n",
        "PI = 3.14159\n",
        "TAXA_DE_JUROS = 0.05\n"
      ],
      "metadata": {
        "id": "_qXRjvzuVuAX"
      },
      "execution_count": null,
      "outputs": []
    },
    {
      "cell_type": "markdown",
      "source": [
        "## A \"atribuição em expressões\" ou \"atribuição múltipla em expressões\" é uma funcionalidade presente em algumas linguagens de programação que permite realizar atribuições enquanto avalia uma expressão. Isso significa que você pode atribuir valores a várias variáveis ao mesmo tempo, usando a avaliação de uma expressão.\n",
        "\n",
        "## Esse recurso também é útil quando você deseja extrair valores de uma estrutura de dados, como uma tupla ou uma lista, e atribuí-los a variáveis individuais de uma maneira concisa."
      ],
      "metadata": {
        "id": "OBfMmOemY_Jn"
      }
    },
    {
      "cell_type": "code",
      "source": [
        "# Atribuição em Expressões:\n",
        "x = y = z = 0\n"
      ],
      "metadata": {
        "id": "qFod_LaYVt99"
      },
      "execution_count": null,
      "outputs": []
    },
    {
      "cell_type": "markdown",
      "source": [
        "# CONCEITO DE CASE SENSITIVE (sensível a maiúsculas e minúsculas)\n",
        "\n",
        "## \"Case sensitive\" (sensível a maiúsculas e minúsculas) é um conceito que significa que a diferença entre letras maiúsculas e minúsculas é relevante e faz diferença na interpretação de dados ou identificadores. Em contextos case sensitive, \"ABC\" e \"abc\" são considerados strings distintas, e o mesmo princípio se aplica a identificadores de variáveis.\n",
        "\n",
        "## Quando uma linguagem de programação é case sensitive, isso significa que ela faz distinção entre maiúsculas e minúsculas em identificadores, como variáveis e funções. Se uma linguagem é case sensitive, \"Exemplo\" e \"exemplo\" seriam tratados como dois identificadores diferentes.\n",
        "\n",
        "## Em contrapartida, em linguagens que não são case sensitive, como SQL, \"Exemplo\" e \"exemplo\" seriam considerados equivalentes.\n",
        "\n",
        "## É importante levar em consideração a sensibilidade a maiúsculas e minúsculas ao programar, para evitar erros relacionados a diferenças de caso em identificadores. Consistência no uso de maiúsculas e minúsculas em todo o código é uma boa prática para manter a legibilidade e evitar confusões."
      ],
      "metadata": {
        "id": "5sIifRXsZah1"
      }
    },
    {
      "cell_type": "code",
      "source": [
        "# Exemplo em Python\n",
        "variavel = 10\n",
        "Variavel = 20\n",
        "\n",
        "# As duas variáveis são distintas\n",
        "print(variavel)   # Saída: 10\n",
        "print(Variavel)   # Saída: 20\n"
      ],
      "metadata": {
        "id": "IJUwkJb1Vt65"
      },
      "execution_count": null,
      "outputs": []
    },
    {
      "cell_type": "markdown",
      "source": [
        "# Abaixo criar alguns exercícios para quem estiver fazendo esse módulo realizar testando os diferentes conceitos."
      ],
      "metadata": {
        "id": "BLV6dfiIaA6c"
      }
    },
    {
      "cell_type": "code",
      "source": [],
      "metadata": {
        "id": "44wWTEq6Vt4n"
      },
      "execution_count": null,
      "outputs": []
    },
    {
      "cell_type": "code",
      "source": [],
      "metadata": {
        "id": "br0K2rr7Vt0t"
      },
      "execution_count": null,
      "outputs": []
    },
    {
      "cell_type": "code",
      "source": [],
      "metadata": {
        "id": "kjlmLbiXVttA"
      },
      "execution_count": null,
      "outputs": []
    }
  ]
}
